{
  "nbformat": 4,
  "nbformat_minor": 0,
  "metadata": {
    "colab": {
      "provenance": [],
      "authorship_tag": "ABX9TyOTcE0DS7cz2O2gZ6j+cKyJ",
      "include_colab_link": true
    },
    "kernelspec": {
      "name": "python3",
      "display_name": "Python 3"
    },
    "language_info": {
      "name": "python"
    }
  },
  "cells": [
    {
      "cell_type": "markdown",
      "metadata": {
        "id": "view-in-github",
        "colab_type": "text"
      },
      "source": [
        "<a href=\"https://colab.research.google.com/github/TOKTAK007/Alexnet-with-TOKTAK/blob/main/Lotteryrev12.ipynb\" target=\"_parent\"><img src=\"https://colab.research.google.com/assets/colab-badge.svg\" alt=\"Open In Colab\"/></a>"
      ]
    },
    {
      "cell_type": "code",
      "source": [
        "import numpy as np\n",
        "import torch"
      ],
      "metadata": {
        "id": "v4J546AZt8de"
      },
      "execution_count": 14,
      "outputs": []
    },
    {
      "cell_type": "code",
      "source": [
        "import numpy as np\n",
        "\n",
        "data = np.array([\n",
        "    812519, 157196, 845093, 375805, 121789, 913106,\n",
        "    613106, 484669, 943703, 929332, 331583, 436594,\n",
        "    620405, 981417, 361807, 319196, 155012, 658642,\n",
        "    395919, 970618, 737867, 61905, 98597, 944308,\n",
        "    880159, 819068, 639235, 77258, 32761, 45037,\n",
        "    386372, 578171, 70935, 114475, 46750, 910261,\n",
        "    556725, 713517, 691861, 292972, 684579, 501272,\n",
        "    100787, 472270, 890422, 835538, 424603, 912307,\n",
        "    38495, 803628, 201303, 100994, 972661, 506404,\n",
        "    286051, 837893, 244083, 999997, 945811, 569391,\n",
        "    873286, 347258, 516967, 831567, 51095, 503446,\n",
        "    875938, 781403, 589227, 491774, 510541, 529924,\n",
        "    453522, 17223, 967375, 812564, 691197, 340388,\n",
        "    798787, 775476, 387006, 369765, 943647, 174055,\n",
        "    516461, 962526, 61324, 570331, 109767, 724628,\n",
        "    345650, 74824, 967134, 197079, 735867, 356564\n",
        "])\n",
        "\n",
        "seq_len = 6\n",
        "num_sequences = len(data)-seq_len\n",
        "\n",
        "#set data at 90 sets and 11 columns ---- (90,17) or 2 dimensions\n",
        "data_set = np.zeros((num_sequences, seq_len + 11))\n",
        "\n",
        "for i in range(num_sequences):\n",
        "  seq = data[i:i+seq_len]\n",
        "  data_set[i, :seq_len] = seq\n",
        "  data_set[i, seq_len] = np.mean(seq[:6])\n",
        "  data_set[i, seq_len + 1] = np.min(seq[:6])\n",
        "  data_set[i, seq_len + 2] = np.max(seq[:6])\n",
        "  data_set[i, seq_len + 3] = np.std(seq[:6])\n",
        "  data_set[i, seq_len + 4] = np.median(seq[:6])\n",
        "  data_set[i, seq_len + 5] = np.var(seq[:6])\n",
        "  data_set[i, seq_len + 6] = np.percentile(seq, 25)\n",
        "  data_set[i, seq_len + 7] = np.percentile(seq, 75)\n",
        "  data_set[i, seq_len + 8] = np.sum(seq[:6])\n",
        "  data_set[i, seq_len + 9] = np.prod(seq[:6])\n",
        "  data_set[i, seq_len + 10] = len(np.where(seq > np.mean(seq))[0])\n",
        "\n",
        "  # print(data_set)\n",
        "\n",
        "# Create headers for the CSV file\n",
        "headers = \"col1, col2, col3, col4, col5, col6, mean, min, max, std, median, var, Q1, Q3, sum, product, count_greater_than_mean\"\n",
        "\n",
        "# Save the data_set as a CSV file with headers\n",
        "np.savetxt(\"data_set.csv\", data_set, delimiter=\",\", header=headers, comments=\"\", fmt=\"%g\")\n"
      ],
      "metadata": {
        "id": "Sn2BB35966mO"
      },
      "execution_count": 15,
      "outputs": []
    },
    {
      "cell_type": "code",
      "source": [
        "import pandas as pd\n",
        "\n",
        "# Read the CSV file\n",
        "data_frame = pd.read_csv(\"data_set.csv\")\n",
        "\n",
        "# Print the contents of the CSV file\n",
        "print(data_frame)\n"
      ],
      "metadata": {
        "colab": {
          "base_uri": "https://localhost:8080/"
        },
        "id": "4TxmrpDKGGqn",
        "outputId": "756f6453-f3b7-4d47-a185-e91df1a56970"
      },
      "execution_count": 16,
      "outputs": [
        {
          "output_type": "stream",
          "name": "stdout",
          "text": [
            "      col1    col2    col3    col4    col5    col6    mean     min     max  \\\n",
            "0   812519  157196  845093  375805  121789  913106  537585  121789  913106   \n",
            "1   157196  845093  375805  121789  913106  613106  504349  121789  913106   \n",
            "2   845093  375805  121789  913106  613106  484669  558928  121789  913106   \n",
            "3   375805  121789  913106  613106  484669  943703  575363  121789  943703   \n",
            "4   121789  913106  613106  484669  943703  929332  667618  121789  943703   \n",
            "..     ...     ...     ...     ...     ...     ...     ...     ...     ...   \n",
            "85  962526   61324  570331  109767  724628  345650  462371   61324  962526   \n",
            "86   61324  570331  109767  724628  345650   74824  314421   61324  724628   \n",
            "87  570331  109767  724628  345650   74824  967134  465389   74824  967134   \n",
            "88  109767  724628  345650   74824  967134  197079  403180   74824  967134   \n",
            "89  724628  345650   74824  967134  197079  735867  507530   74824  967134   \n",
            "\n",
            "       std    median           var        Q1      Q3        sum       product  \\\n",
            "0   330384  594162.0  1.091530e+11  211848.0  836950  3225510.0  4.767970e+18   \n",
            "1   310486  494456.0  9.640130e+10  211848.0  787096  3026100.0  7.986630e+18   \n",
            "2   270926  548888.0  7.340110e+10  403021.0  787096  3353570.0 -4.638520e+18   \n",
            "3   290100  548888.0  8.415790e+10  403021.0  838106  3452180.0  1.592720e+18   \n",
            "4   299820  763106.0  8.989210e+10  516778.0  925276  4005700.0 -6.056240e+18   \n",
            "..     ...       ...           ...       ...     ...        ...           ...   \n",
            "85  323878  457990.0  1.048970e+11  168738.0  686054  2774230.0  3.038940e+18   \n",
            "86  257579  227708.0  6.634720e+10   83559.8  514161  1886520.0 -2.545970e+18   \n",
            "87  322312  457990.0  1.038850e+11  168738.0  686054  2792330.0 -7.375020e+18   \n",
            "88  331931  271364.0  1.101780e+11  131595.0  629884  2419080.0  1.418980e+18   \n",
            "89  321539  535139.0  1.033870e+11  234222.0  733057  3045180.0 -8.305840e+18   \n",
            "\n",
            "     count_greater_than_mean  \n",
            "0                          3  \n",
            "1                          3  \n",
            "2                          3  \n",
            "3                          3  \n",
            "4                          3  \n",
            "..                       ...  \n",
            "85                         3  \n",
            "86                         3  \n",
            "87                         3  \n",
            "88                         2  \n",
            "89                         3  \n",
            "\n",
            "[90 rows x 17 columns]\n"
          ]
        }
      ]
    },
    {
      "cell_type": "markdown",
      "source": [
        "\n",
        "\n",
        "---\n",
        "prod = บรรทัดนี้เป็นการคำนวณผลคูณของทุกๆ ตัวเลขในตัวแปร seq\n",
        "\n",
        "\n",
        "---\n",
        "\n",
        "\n"
      ],
      "metadata": {
        "id": "efW_dMYxCKqk"
      }
    },
    {
      "cell_type": "markdown",
      "source": [
        "\n",
        "\n",
        "---\n",
        "\n",
        "\n",
        "np.len(np.where(seq > np.mean(seq))[0])\n",
        "บรรทัดนี้เป็นการคำนวณจำนวนของตัวเลขในตัวแปร seq ที่มีค่ามากกว่าค่าเฉลี่ยของตัวเลขใน seq และนำจำนวนที่คำนวณได้ไปเก็บไว้ในตัวแปร data_set ณ ตำแหน่งที่ต้องการ\n",
        "\n",
        "\n",
        "---\n",
        "\n"
      ],
      "metadata": {
        "id": "YGXZQZqeC-rH"
      }
    },
    {
      "cell_type": "markdown",
      "source": [
        "\n",
        "\n",
        "---\n",
        "ในภาษา Python, วงเล็บ () และสแควร์บรากเก็ต [] มีความแตกต่างกันในการใช้งาน ดังนี้:\n",
        "\n",
        "วงเล็บ ():\n",
        "\n",
        "ใช้สำหรับสร้าง tuple: Tuple เป็นข้อมูลชนิดหนึ่งใน Python ที่เป็น immutable หรือไม่สามารถเปลี่ยนแปลงค่าได้หลังจากที่ถูกสร้างขึ้น ตัวอย่างการสร้าง tuple คือ my_tuple = (1, 2, 3)\n",
        "ใช้ในการระบุค่าพารามิเตอร์ของฟังก์ชัน เช่น def my_function(x, y):\n",
        "ใช้ในการเรียกฟังก์ชัน โดยส่งค่าอาร์กิวเมนต์ให้กับฟังก์ชัน เช่น result = my_function(a, b)\n",
        "\n",
        "\n",
        "---\n",
        "\n",
        "\n",
        "สแควร์บรากเก็ต []:\n",
        "\n",
        "ใช้สำหรับสร้าง list: List เป็นข้อมูลชนิดหนึ่งใน Python ที่เป็น mutable หรือสามารถเปลี่ยนแปลงค่าได้ ตัวอย่างการสร้าง list คือ my_list = [1, 2, 3]\n",
        "ใช้ในการเข้าถึงค่าของ list, tuple และ dictionary ตามด้วยตำแหน่ง (index) หรือคีย์ (key) ของข้อมูล เช่น my_list[0], my_tuple[1], my_dict['key']\n",
        "ใช้ในการสร้าง list comprehensions ซึ่งเป็นการสร้าง list ใหม่โดยใช้คำสั่ง for loop และเงื่อนไข if ภายในวงเล็บสแควร์ เช่น squares = [x * x for x in range(1, 11) if x % 2 == 0]\n",
        "\n",
        "\n",
        "---\n",
        "\n",
        "\n",
        "สรุปคือ วงเล็บ () ใช้สำหรับการสร้าง tuple และระบุค่าพารามิเตอร์ของฟังก์ชัน ในขณะที่สแควร์บรากเก็ต [] ใช้สำหรับการสร้าง list และเข้าถึงค่าขของ list, tuple และ dictionary ตามด้วยตำแหน่ง (index) หรือคีย์ (key) ของข้อมูล และใช้ในการสร้าง list comprehensions ด้วยคำสั่ง for loop และเงื่อนไข if ภายในวงเล็บสแควร์เก็ต\n",
        "\n",
        "\n",
        "---\n",
        "\n",
        "\n",
        "เพื่อให้เข้าใจชัดเจนยิ่งขึ้น ลองดูตัวอย่างการใช้งาน () และ [] ใน Python ดังนี้:\n",
        "# สร้าง tuple ด้วยวงเล็บ ()\n",
        "my_tuple = (1, 2, 3)\n",
        "\n",
        "# สร้าง list ด้วยสแควร์บรากเก็ต []\n",
        "my_list = [1, 2, 3]\n",
        "\n",
        "# เข้าถึงค่าของ tuple และ list ด้วยสแควร์บรากเก็ต []\n",
        "print(my_tuple[1])  # ผลลัพธ์: 2\n",
        "print(my_list[2])   # ผลลัพธ์: 3\n",
        "\n",
        "# สร้าง dictionary\n",
        "my_dict = {'one': 1, 'two': 2, 'three': 3}\n",
        "\n",
        "# เข้าถึงค่าของ dictionary ด้วยสแควร์บรากเก็ต []\n",
        "print(my_dict['one'])  # ผลลัพธ์: 1\n",
        "\n",
        "# สร้าง list comprehension ด้วยสแควร์บรากเก็ต []\n",
        "squares = [x * x for x in range(1, 11) if x % 2 == 0]\n",
        "print(squares)  # ผลลัพธ์: [4, 16, 36, 64, 100]\n",
        "\n",
        "\n",
        "---\n",
        "tuple เป็นชนิดข้อมูลในภาษา Python ที่เป็นคอลเลกชันของข้อมูลหลายตัวที่มีลำดับ และข้อมูลใน tuple ไม่สามารถเปลี่ยนแปลงหรือแก้ไขได้หลังจากที่ถูกสร้างขึ้น (immutable) ซึ่งต่างจาก list ที่สามารถเปลี่ยนแปลงค่าของข้อมูลได้ (mutable)\n",
        "\n",
        "คุณสามารถสร้าง tuple โดยใช้วงเล็บ () ดังตัวอย่าง:\n",
        "\n",
        "\n",
        "---\n",
        "\n",
        "\n",
        "\n"
      ],
      "metadata": {
        "id": "62OJYr4AEAN3"
      }
    }
  ]
}